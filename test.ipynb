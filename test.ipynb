{
 "metadata": {
  "language_info": {
   "codemirror_mode": {
    "name": "ipython",
    "version": 3
   },
   "file_extension": ".py",
   "mimetype": "text/x-python",
   "name": "python",
   "nbconvert_exporter": "python",
   "pygments_lexer": "ipython3",
   "version": "3.8.5"
  },
  "orig_nbformat": 2,
  "kernelspec": {
   "name": "python385jvsc74a57bd0916dbcbb3f70747c44a77c7bcd40155683ae19c65e1c03b4aa3499c5328201f1",
   "display_name": "Python 3.8.5 64-bit"
  }
 },
 "nbformat": 4,
 "nbformat_minor": 2,
 "cells": [
  {
   "source": [],
   "cell_type": "markdown",
   "metadata": {}
  },
  {
   "cell_type": "code",
   "execution_count": 125,
   "metadata": {},
   "outputs": [
    {
     "output_type": "stream",
     "name": "stdout",
     "text": [
      "       toto1  toto2  toto3  toto4  toto5  toto6  toto7  toto8  toto9\nAlice      0  102.0     10     10      0    100    100      0    100\nBob      100  101.0    500    500    100    100    100     50    100\nTara     102    0.0    100    800    100    101    100      2    105\nLeo       10    NaN      0      0    300      0    100    300    100\nHans    1000   10.0      1      1     10    100    100     10    100\nUri       10  103.0    100    100    250     50    100     10    100\nLara     110   99.0    102    100    100     99      0     10    100\nKenny   1000  100.0    101    100    100    500    100     10      0\n===\ndf_pref_pers =\n toto1      0.0\ntoto2    102.0\ntoto3     10.0\ntoto4     10.0\ntoto5      0.0\ntoto6    100.0\ntoto7    100.0\ntoto8      0.0\ntoto9    100.0\nName: Alice, dtype: float64\n= clean unplanned persons :  Alice\ngames_serie_person_planned =\n 0    toto1\n1    toto5\n2    toto6\nName: Alice, dtype: object\ngames_serie_person_not_planned =\n Index(['toto2', 'toto3', 'toto4', 'toto7', 'toto8', 'toto9'], dtype='object')\n===\ndf_pref_pers =\n toto1    100.0\ntoto2    101.0\ntoto3    500.0\ntoto4    500.0\ntoto5    100.0\ntoto6    100.0\ntoto7    100.0\ntoto8     50.0\ntoto9    100.0\nName: Bob, dtype: float64\n= clean unplanned persons :  Bob\ngames_serie_person_planned =\n 0    toto3\n1    toto4\n2    toto6\nName: Bob, dtype: object\ngames_serie_person_not_planned =\n Index(['toto1', 'toto2', 'toto5', 'toto7', 'toto8', 'toto9'], dtype='object')\n===\ndf_pref_pers =\n toto1    102.0\ntoto2      0.0\ntoto3    100.0\ntoto4    800.0\ntoto5    100.0\ntoto6    101.0\ntoto7    100.0\ntoto8      2.0\ntoto9    105.0\nName: Tara, dtype: float64\n= clean unplanned persons :  Tara\ngames_serie_person_planned =\n 0    toto1\n1    toto4\n2    toto9\nName: Tara, dtype: object\ngames_serie_person_not_planned =\n Index(['toto2', 'toto3', 'toto5', 'toto6', 'toto7', 'toto8'], dtype='object')\n===\ndf_pref_pers =\n toto1     10.0\ntoto2      NaN\ntoto3      0.0\ntoto4      0.0\ntoto5    300.0\ntoto6      0.0\ntoto7    100.0\ntoto8    300.0\ntoto9    100.0\nName: Leo, dtype: float64\n= clean unplanned persons :  Leo\ngames_serie_person_planned =\n 0    toto3\n1    toto4\n2    toto6\nName: Leo, dtype: object\ngames_serie_person_not_planned =\n Index(['toto1', 'toto2', 'toto5', 'toto7', 'toto8', 'toto9'], dtype='object')\n===\ndf_pref_pers =\n toto1    1000.0\ntoto2      10.0\ntoto3       1.0\ntoto4       1.0\ntoto5      10.0\ntoto6     100.0\ntoto7     100.0\ntoto8      10.0\ntoto9     100.0\nName: Hans, dtype: float64\n= clean unplanned persons :  Hans\ngames_serie_person_planned =\n 0    toto1\n1    toto5\n2    toto6\nName: Hans, dtype: object\ngames_serie_person_not_planned =\n Index(['toto2', 'toto3', 'toto4', 'toto7', 'toto8', 'toto9'], dtype='object')\n===\ndf_pref_pers =\n toto1     10.0\ntoto2    103.0\ntoto3    100.0\ntoto4    100.0\ntoto5    250.0\ntoto6     50.0\ntoto7    100.0\ntoto8     10.0\ntoto9    100.0\nName: Uri, dtype: float64\n= clean unplanned persons :  Uri\ngames_serie_person_planned =\n 0    toto3\n1    toto5\n2    toto9\nName: Uri, dtype: object\ngames_serie_person_not_planned =\n Index(['toto1', 'toto2', 'toto4', 'toto6', 'toto7', 'toto8'], dtype='object')\n===\ndf_pref_pers =\n toto1    110.0\ntoto2     99.0\ntoto3    102.0\ntoto4    100.0\ntoto5    100.0\ntoto6     99.0\ntoto7      0.0\ntoto8     10.0\ntoto9    100.0\nName: Lara, dtype: float64\n= clean unplanned persons :  Lara\ngames_serie_person_planned =\n 0    toto1\n1    toto4\n2    toto9\nName: Lara, dtype: object\ngames_serie_person_not_planned =\n Index(['toto2', 'toto3', 'toto5', 'toto6', 'toto7', 'toto8'], dtype='object')\n===\ndf_pref_pers =\n toto1    1000.0\ntoto2     100.0\ntoto3     101.0\ntoto4     100.0\ntoto5     100.0\ntoto6     500.0\ntoto7     100.0\ntoto8      10.0\ntoto9       0.0\nName: Kenny, dtype: float64\n= clean unplanned persons :  Kenny\ngames_serie_person_planned =\n 0    toto1\n1    toto4\n2    toto9\nName: Kenny, dtype: object\ngames_serie_person_not_planned =\n Index(['toto2', 'toto3', 'toto5', 'toto6', 'toto7', 'toto8'], dtype='object')\n        toto1  toto2  toto3  toto4  toto5  toto6  toto7  toto8  toto9\nAlice     0.0 -102.0  -10.0  -10.0    0.0  100.0 -100.0   -0.0 -100.0\nBob    -100.0 -101.0  500.0  500.0 -100.0  100.0 -100.0  -50.0 -100.0\nTara    102.0   -0.0 -100.0  800.0 -100.0 -101.0 -100.0   -2.0  105.0\nLeo     -10.0   -0.0    0.0    0.0 -300.0    0.0 -100.0 -300.0 -100.0\nHans   1000.0  -10.0   -1.0   -1.0   10.0  100.0 -100.0  -10.0 -100.0\nUri     -10.0 -103.0  100.0 -100.0  250.0  -50.0 -100.0  -10.0  100.0\nLara    110.0  -99.0 -102.0  100.0 -100.0  -99.0   -0.0  -10.0  100.0\nKenny  1000.0 -100.0 -101.0  100.0 -100.0 -500.0 -100.0  -10.0    0.0\n\nAlice   -222.0\nBob      549.0\nTara     604.0\nLeo     -810.0\nHans     888.0\nUri       77.0\nLara    -100.0\nKenny    189.0\ndtype: float64\n"
     ]
    }
   ],
   "source": [
    "%reset\n",
    "\n",
    "import pandas as pd\n",
    "df_pref = pd.read_csv(\"out2_preferences.csv\", index_col=0)\n",
    "df_plan_act = pd.read_csv(\"out2_plan_activities.csv\", index_col=0)\n",
    "df_plan_per = pd.read_csv(\"out2_plan_persons.csv\", index_col=0)\n",
    "list_pers = df_plan_per.index.tolist()\n",
    "\n",
    "print(df_pref)\n",
    "\n",
    "df_happyness = pd.DataFrame()\n",
    "for pers in list_pers:\n",
    "    print(\"===\")\n",
    "    df_pref_pers = df_pref.loc[pers, :]\n",
    "    print(\"df_pref_pers =\\n\", df_pref_pers)\n",
    "\n",
    "\n",
    "\n",
    "    print(\"= clean unplanned persons : \", pers)\n",
    "    games_serie_person_planned = df_plan_per.loc[pers, :]\n",
    "    print(\"games_serie_person_planned =\\n\", games_serie_person_planned)\n",
    "\n",
    "    games_serie_person_not_planned = df_pref_pers[~df_pref_pers.index.isin(games_serie_person_planned)].index\n",
    "    print(\"games_serie_person_not_planned =\\n\", games_serie_person_not_planned)\n",
    "\n",
    "    df_pref.loc[pers, games_serie_person_not_planned] = df_pref.loc[pers, games_serie_person_not_planned].multiply(-1, fill_value=0)\n",
    "\n",
    "\n",
    "df_happyness = df_pref.sum(axis=1)\n",
    "print(df_pref)\n",
    "print()\n",
    "print(df_happyness)\n",
    "\n",
    "\n",
    "# print(df_pref)\n",
    "# print(df_plan_act)\n",
    "\n",
    "\n",
    "#df_pref_from_games_planned = df_pref[df_pref.columns[df_pref.columns.isin(games_planned)]]\n",
    "#print(df_pref[df_pref.columns[~df_pref.columns.isin(games_planned)]])\n",
    "\n",
    "#print(df_pref_from_games_planned)\n",
    "#df_pref_from_games_planned[df_pref_from_games_planned.index].sum(axis=1)"
   ]
  },
  {
   "cell_type": "code",
   "execution_count": 4,
   "metadata": {},
   "outputs": [
    {
     "output_type": "stream",
     "name": "stdout",
     "text": [
      "[4, 5]\n"
     ]
    }
   ],
   "source": []
  },
  {
   "cell_type": "code",
   "execution_count": 10,
   "metadata": {},
   "outputs": [],
   "source": []
  },
  {
   "cell_type": "code",
   "execution_count": 34,
   "metadata": {},
   "outputs": [
    {
     "output_type": "stream",
     "name": "stdout",
     "text": [
      "KEKwin= 64.31999999999996 %\nKEKlose= 35.06666666666665 %\nAfter games choice : 15.0 %\n"
     ]
    },
    {
     "output_type": "display_data",
     "data": {
      "text/plain": "<Figure size 432x288 with 1 Axes>",
      "image/svg+xml": "<?xml version=\"1.0\" encoding=\"utf-8\" standalone=\"no\"?>\n<!DOCTYPE svg PUBLIC \"-//W3C//DTD SVG 1.1//EN\"\n  \"http://www.w3.org/Graphics/SVG/1.1/DTD/svg11.dtd\">\n<!-- Created with matplotlib (https://matplotlib.org/) -->\n<svg height=\"250.591629pt\" version=\"1.1\" viewBox=\"0 0 368.925 250.591629\" width=\"368.925pt\" xmlns=\"http://www.w3.org/2000/svg\" xmlns:xlink=\"http://www.w3.org/1999/xlink\">\n <defs>\n  <style type=\"text/css\">\n*{stroke-linecap:butt;stroke-linejoin:round;}\n  </style>\n </defs>\n <g id=\"figure_1\">\n  <g id=\"patch_1\">\n   <path d=\"M -0 250.591629 \nL 368.925 250.591629 \nL 368.925 0 \nL -0 0 \nz\n\" style=\"fill:none;\"/>\n  </g>\n  <g id=\"axes_1\">\n   <g id=\"patch_2\">\n    <path d=\"M 26.925 226.713504 \nL 361.725 226.713504 \nL 361.725 9.273504 \nL 26.925 9.273504 \nz\n\" style=\"fill:#ffffff;\"/>\n   </g>\n   <g id=\"patch_3\">\n    <path clip-path=\"url(#p293a1da590)\" d=\"M 42.143182 226.713504 \nL 80.188636 226.713504 \nL 80.188636 19.62779 \nL 42.143182 19.62779 \nz\n\" style=\"fill:#1f77b4;\"/>\n   </g>\n   <g id=\"patch_4\">\n    <path clip-path=\"url(#p293a1da590)\" d=\"M 80.188636 226.713504 \nL 118.234091 226.713504 \nL 118.234091 174.942076 \nL 80.188636 174.942076 \nz\n\" style=\"fill:#1f77b4;\"/>\n   </g>\n   <g id=\"patch_5\">\n    <path clip-path=\"url(#p293a1da590)\" d=\"M 118.234091 226.713504 \nL 156.279545 226.713504 \nL 156.279545 19.62779 \nL 118.234091 19.62779 \nz\n\" style=\"fill:#1f77b4;\"/>\n   </g>\n   <g id=\"patch_6\">\n    <path clip-path=\"url(#p293a1da590)\" d=\"M 156.279545 226.713504 \nL 194.325 226.713504 \nL 194.325 174.942076 \nL 156.279545 174.942076 \nz\n\" style=\"fill:#1f77b4;\"/>\n   </g>\n   <g id=\"patch_7\">\n    <path clip-path=\"url(#p293a1da590)\" d=\"M 194.325 226.713504 \nL 232.370455 226.713504 \nL 232.370455 174.942076 \nL 194.325 174.942076 \nz\n\" style=\"fill:#1f77b4;\"/>\n   </g>\n   <g id=\"patch_8\">\n    <path clip-path=\"url(#p293a1da590)\" d=\"M 232.370455 226.713504 \nL 270.415909 226.713504 \nL 270.415909 19.62779 \nL 232.370455 19.62779 \nz\n\" style=\"fill:#1f77b4;\"/>\n   </g>\n   <g id=\"patch_9\">\n    <path clip-path=\"url(#p293a1da590)\" d=\"M 270.415909 226.713504 \nL 308.461364 226.713504 \nL 308.461364 71.399219 \nL 270.415909 71.399219 \nz\n\" style=\"fill:#1f77b4;\"/>\n   </g>\n   <g id=\"patch_10\">\n    <path clip-path=\"url(#p293a1da590)\" d=\"M 308.461364 226.713504 \nL 346.506818 226.713504 \nL 346.506818 123.170647 \nL 308.461364 123.170647 \nz\n\" style=\"fill:#1f77b4;\"/>\n   </g>\n   <g id=\"matplotlib.axis_1\">\n    <g id=\"xtick_1\">\n     <g id=\"line2d_1\">\n      <defs>\n       <path d=\"M 0 0 \nL 0 3.5 \n\" id=\"m8c9a44abe9\" style=\"stroke:#000000;stroke-width:0.8;\"/>\n      </defs>\n      <g>\n       <use style=\"stroke:#000000;stroke-width:0.8;\" x=\"69.812603\" xlink:href=\"#m8c9a44abe9\" y=\"226.713504\"/>\n      </g>\n     </g>\n     <g id=\"text_1\">\n      <!-- 0.2 -->\n      <defs>\n       <path d=\"M 31.78125 66.40625 \nQ 24.171875 66.40625 20.328125 58.90625 \nQ 16.5 51.421875 16.5 36.375 \nQ 16.5 21.390625 20.328125 13.890625 \nQ 24.171875 6.390625 31.78125 6.390625 \nQ 39.453125 6.390625 43.28125 13.890625 \nQ 47.125 21.390625 47.125 36.375 \nQ 47.125 51.421875 43.28125 58.90625 \nQ 39.453125 66.40625 31.78125 66.40625 \nz\nM 31.78125 74.21875 \nQ 44.046875 74.21875 50.515625 64.515625 \nQ 56.984375 54.828125 56.984375 36.375 \nQ 56.984375 17.96875 50.515625 8.265625 \nQ 44.046875 -1.421875 31.78125 -1.421875 \nQ 19.53125 -1.421875 13.0625 8.265625 \nQ 6.59375 17.96875 6.59375 36.375 \nQ 6.59375 54.828125 13.0625 64.515625 \nQ 19.53125 74.21875 31.78125 74.21875 \nz\n\" id=\"DejaVuSans-48\"/>\n       <path d=\"M 10.6875 12.40625 \nL 21 12.40625 \nL 21 0 \nL 10.6875 0 \nz\n\" id=\"DejaVuSans-46\"/>\n       <path d=\"M 19.1875 8.296875 \nL 53.609375 8.296875 \nL 53.609375 0 \nL 7.328125 0 \nL 7.328125 8.296875 \nQ 12.9375 14.109375 22.625 23.890625 \nQ 32.328125 33.6875 34.8125 36.53125 \nQ 39.546875 41.84375 41.421875 45.53125 \nQ 43.3125 49.21875 43.3125 52.78125 \nQ 43.3125 58.59375 39.234375 62.25 \nQ 35.15625 65.921875 28.609375 65.921875 \nQ 23.96875 65.921875 18.8125 64.3125 \nQ 13.671875 62.703125 7.8125 59.421875 \nL 7.8125 69.390625 \nQ 13.765625 71.78125 18.9375 73 \nQ 24.125 74.21875 28.421875 74.21875 \nQ 39.75 74.21875 46.484375 68.546875 \nQ 53.21875 62.890625 53.21875 53.421875 \nQ 53.21875 48.921875 51.53125 44.890625 \nQ 49.859375 40.875 45.40625 35.40625 \nQ 44.1875 33.984375 37.640625 27.21875 \nQ 31.109375 20.453125 19.1875 8.296875 \nz\n\" id=\"DejaVuSans-50\"/>\n      </defs>\n      <g transform=\"translate(61.861041 241.311942)scale(0.1 -0.1)\">\n       <use xlink:href=\"#DejaVuSans-48\"/>\n       <use x=\"63.623047\" xlink:href=\"#DejaVuSans-46\"/>\n       <use x=\"95.410156\" xlink:href=\"#DejaVuSans-50\"/>\n      </g>\n     </g>\n    </g>\n    <g id=\"xtick_2\">\n     <g id=\"line2d_2\">\n      <g>\n       <use style=\"stroke:#000000;stroke-width:0.8;\" x=\"125.151446\" xlink:href=\"#m8c9a44abe9\" y=\"226.713504\"/>\n      </g>\n     </g>\n     <g id=\"text_2\">\n      <!-- 0.3 -->\n      <defs>\n       <path d=\"M 40.578125 39.3125 \nQ 47.65625 37.796875 51.625 33 \nQ 55.609375 28.21875 55.609375 21.1875 \nQ 55.609375 10.40625 48.1875 4.484375 \nQ 40.765625 -1.421875 27.09375 -1.421875 \nQ 22.515625 -1.421875 17.65625 -0.515625 \nQ 12.796875 0.390625 7.625 2.203125 \nL 7.625 11.71875 \nQ 11.71875 9.328125 16.59375 8.109375 \nQ 21.484375 6.890625 26.8125 6.890625 \nQ 36.078125 6.890625 40.9375 10.546875 \nQ 45.796875 14.203125 45.796875 21.1875 \nQ 45.796875 27.640625 41.28125 31.265625 \nQ 36.765625 34.90625 28.71875 34.90625 \nL 20.21875 34.90625 \nL 20.21875 43.015625 \nL 29.109375 43.015625 \nQ 36.375 43.015625 40.234375 45.921875 \nQ 44.09375 48.828125 44.09375 54.296875 \nQ 44.09375 59.90625 40.109375 62.90625 \nQ 36.140625 65.921875 28.71875 65.921875 \nQ 24.65625 65.921875 20.015625 65.03125 \nQ 15.375 64.15625 9.8125 62.3125 \nL 9.8125 71.09375 \nQ 15.4375 72.65625 20.34375 73.4375 \nQ 25.25 74.21875 29.59375 74.21875 \nQ 40.828125 74.21875 47.359375 69.109375 \nQ 53.90625 64.015625 53.90625 55.328125 \nQ 53.90625 49.265625 50.4375 45.09375 \nQ 46.96875 40.921875 40.578125 39.3125 \nz\n\" id=\"DejaVuSans-51\"/>\n      </defs>\n      <g transform=\"translate(117.199884 241.311942)scale(0.1 -0.1)\">\n       <use xlink:href=\"#DejaVuSans-48\"/>\n       <use x=\"63.623047\" xlink:href=\"#DejaVuSans-46\"/>\n       <use x=\"95.410156\" xlink:href=\"#DejaVuSans-51\"/>\n      </g>\n     </g>\n    </g>\n    <g id=\"xtick_3\">\n     <g id=\"line2d_3\">\n      <g>\n       <use style=\"stroke:#000000;stroke-width:0.8;\" x=\"180.490289\" xlink:href=\"#m8c9a44abe9\" y=\"226.713504\"/>\n      </g>\n     </g>\n     <g id=\"text_3\">\n      <!-- 0.4 -->\n      <defs>\n       <path d=\"M 37.796875 64.3125 \nL 12.890625 25.390625 \nL 37.796875 25.390625 \nz\nM 35.203125 72.90625 \nL 47.609375 72.90625 \nL 47.609375 25.390625 \nL 58.015625 25.390625 \nL 58.015625 17.1875 \nL 47.609375 17.1875 \nL 47.609375 0 \nL 37.796875 0 \nL 37.796875 17.1875 \nL 4.890625 17.1875 \nL 4.890625 26.703125 \nz\n\" id=\"DejaVuSans-52\"/>\n      </defs>\n      <g transform=\"translate(172.538727 241.311942)scale(0.1 -0.1)\">\n       <use xlink:href=\"#DejaVuSans-48\"/>\n       <use x=\"63.623047\" xlink:href=\"#DejaVuSans-46\"/>\n       <use x=\"95.410156\" xlink:href=\"#DejaVuSans-52\"/>\n      </g>\n     </g>\n    </g>\n    <g id=\"xtick_4\">\n     <g id=\"line2d_4\">\n      <g>\n       <use style=\"stroke:#000000;stroke-width:0.8;\" x=\"235.829132\" xlink:href=\"#m8c9a44abe9\" y=\"226.713504\"/>\n      </g>\n     </g>\n     <g id=\"text_4\">\n      <!-- 0.5 -->\n      <defs>\n       <path d=\"M 10.796875 72.90625 \nL 49.515625 72.90625 \nL 49.515625 64.59375 \nL 19.828125 64.59375 \nL 19.828125 46.734375 \nQ 21.96875 47.46875 24.109375 47.828125 \nQ 26.265625 48.1875 28.421875 48.1875 \nQ 40.625 48.1875 47.75 41.5 \nQ 54.890625 34.8125 54.890625 23.390625 \nQ 54.890625 11.625 47.5625 5.09375 \nQ 40.234375 -1.421875 26.90625 -1.421875 \nQ 22.3125 -1.421875 17.546875 -0.640625 \nQ 12.796875 0.140625 7.71875 1.703125 \nL 7.71875 11.625 \nQ 12.109375 9.234375 16.796875 8.0625 \nQ 21.484375 6.890625 26.703125 6.890625 \nQ 35.15625 6.890625 40.078125 11.328125 \nQ 45.015625 15.765625 45.015625 23.390625 \nQ 45.015625 31 40.078125 35.4375 \nQ 35.15625 39.890625 26.703125 39.890625 \nQ 22.75 39.890625 18.8125 39.015625 \nQ 14.890625 38.140625 10.796875 36.28125 \nz\n\" id=\"DejaVuSans-53\"/>\n      </defs>\n      <g transform=\"translate(227.87757 241.311942)scale(0.1 -0.1)\">\n       <use xlink:href=\"#DejaVuSans-48\"/>\n       <use x=\"63.623047\" xlink:href=\"#DejaVuSans-46\"/>\n       <use x=\"95.410156\" xlink:href=\"#DejaVuSans-53\"/>\n      </g>\n     </g>\n    </g>\n    <g id=\"xtick_5\">\n     <g id=\"line2d_5\">\n      <g>\n       <use style=\"stroke:#000000;stroke-width:0.8;\" x=\"291.167975\" xlink:href=\"#m8c9a44abe9\" y=\"226.713504\"/>\n      </g>\n     </g>\n     <g id=\"text_5\">\n      <!-- 0.6 -->\n      <defs>\n       <path d=\"M 33.015625 40.375 \nQ 26.375 40.375 22.484375 35.828125 \nQ 18.609375 31.296875 18.609375 23.390625 \nQ 18.609375 15.53125 22.484375 10.953125 \nQ 26.375 6.390625 33.015625 6.390625 \nQ 39.65625 6.390625 43.53125 10.953125 \nQ 47.40625 15.53125 47.40625 23.390625 \nQ 47.40625 31.296875 43.53125 35.828125 \nQ 39.65625 40.375 33.015625 40.375 \nz\nM 52.59375 71.296875 \nL 52.59375 62.3125 \nQ 48.875 64.0625 45.09375 64.984375 \nQ 41.3125 65.921875 37.59375 65.921875 \nQ 27.828125 65.921875 22.671875 59.328125 \nQ 17.53125 52.734375 16.796875 39.40625 \nQ 19.671875 43.65625 24.015625 45.921875 \nQ 28.375 48.1875 33.59375 48.1875 \nQ 44.578125 48.1875 50.953125 41.515625 \nQ 57.328125 34.859375 57.328125 23.390625 \nQ 57.328125 12.15625 50.6875 5.359375 \nQ 44.046875 -1.421875 33.015625 -1.421875 \nQ 20.359375 -1.421875 13.671875 8.265625 \nQ 6.984375 17.96875 6.984375 36.375 \nQ 6.984375 53.65625 15.1875 63.9375 \nQ 23.390625 74.21875 37.203125 74.21875 \nQ 40.921875 74.21875 44.703125 73.484375 \nQ 48.484375 72.75 52.59375 71.296875 \nz\n\" id=\"DejaVuSans-54\"/>\n      </defs>\n      <g transform=\"translate(283.216413 241.311942)scale(0.1 -0.1)\">\n       <use xlink:href=\"#DejaVuSans-48\"/>\n       <use x=\"63.623047\" xlink:href=\"#DejaVuSans-46\"/>\n       <use x=\"95.410156\" xlink:href=\"#DejaVuSans-54\"/>\n      </g>\n     </g>\n    </g>\n    <g id=\"xtick_6\">\n     <g id=\"line2d_6\">\n      <g>\n       <use style=\"stroke:#000000;stroke-width:0.8;\" x=\"346.506818\" xlink:href=\"#m8c9a44abe9\" y=\"226.713504\"/>\n      </g>\n     </g>\n     <g id=\"text_6\">\n      <!-- 0.7 -->\n      <defs>\n       <path d=\"M 8.203125 72.90625 \nL 55.078125 72.90625 \nL 55.078125 68.703125 \nL 28.609375 0 \nL 18.3125 0 \nL 43.21875 64.59375 \nL 8.203125 64.59375 \nz\n\" id=\"DejaVuSans-55\"/>\n      </defs>\n      <g transform=\"translate(338.555256 241.311942)scale(0.1 -0.1)\">\n       <use xlink:href=\"#DejaVuSans-48\"/>\n       <use x=\"63.623047\" xlink:href=\"#DejaVuSans-46\"/>\n       <use x=\"95.410156\" xlink:href=\"#DejaVuSans-55\"/>\n      </g>\n     </g>\n    </g>\n   </g>\n   <g id=\"matplotlib.axis_2\">\n    <g id=\"ytick_1\">\n     <g id=\"line2d_7\">\n      <defs>\n       <path d=\"M 0 0 \nL -3.5 0 \n\" id=\"mb0a1564daf\" style=\"stroke:#000000;stroke-width:0.8;\"/>\n      </defs>\n      <g>\n       <use style=\"stroke:#000000;stroke-width:0.8;\" x=\"26.925\" xlink:href=\"#mb0a1564daf\" y=\"226.713504\"/>\n      </g>\n     </g>\n     <g id=\"text_7\">\n      <!-- 0 -->\n      <g transform=\"translate(13.5625 230.512723)scale(0.1 -0.1)\">\n       <use xlink:href=\"#DejaVuSans-48\"/>\n      </g>\n     </g>\n    </g>\n    <g id=\"ytick_2\">\n     <g id=\"line2d_8\">\n      <g>\n       <use style=\"stroke:#000000;stroke-width:0.8;\" x=\"26.925\" xlink:href=\"#mb0a1564daf\" y=\"183.570647\"/>\n      </g>\n     </g>\n     <g id=\"text_8\">\n      <!-- 5 -->\n      <g transform=\"translate(13.5625 187.369866)scale(0.1 -0.1)\">\n       <use xlink:href=\"#DejaVuSans-53\"/>\n      </g>\n     </g>\n    </g>\n    <g id=\"ytick_3\">\n     <g id=\"line2d_9\">\n      <g>\n       <use style=\"stroke:#000000;stroke-width:0.8;\" x=\"26.925\" xlink:href=\"#mb0a1564daf\" y=\"140.42779\"/>\n      </g>\n     </g>\n     <g id=\"text_9\">\n      <!-- 10 -->\n      <defs>\n       <path d=\"M 12.40625 8.296875 \nL 28.515625 8.296875 \nL 28.515625 63.921875 \nL 10.984375 60.40625 \nL 10.984375 69.390625 \nL 28.421875 72.90625 \nL 38.28125 72.90625 \nL 38.28125 8.296875 \nL 54.390625 8.296875 \nL 54.390625 0 \nL 12.40625 0 \nz\n\" id=\"DejaVuSans-49\"/>\n      </defs>\n      <g transform=\"translate(7.2 144.227009)scale(0.1 -0.1)\">\n       <use xlink:href=\"#DejaVuSans-49\"/>\n       <use x=\"63.623047\" xlink:href=\"#DejaVuSans-48\"/>\n      </g>\n     </g>\n    </g>\n    <g id=\"ytick_4\">\n     <g id=\"line2d_10\">\n      <g>\n       <use style=\"stroke:#000000;stroke-width:0.8;\" x=\"26.925\" xlink:href=\"#mb0a1564daf\" y=\"97.284933\"/>\n      </g>\n     </g>\n     <g id=\"text_10\">\n      <!-- 15 -->\n      <g transform=\"translate(7.2 101.084152)scale(0.1 -0.1)\">\n       <use xlink:href=\"#DejaVuSans-49\"/>\n       <use x=\"63.623047\" xlink:href=\"#DejaVuSans-53\"/>\n      </g>\n     </g>\n    </g>\n    <g id=\"ytick_5\">\n     <g id=\"line2d_11\">\n      <g>\n       <use style=\"stroke:#000000;stroke-width:0.8;\" x=\"26.925\" xlink:href=\"#mb0a1564daf\" y=\"54.142076\"/>\n      </g>\n     </g>\n     <g id=\"text_11\">\n      <!-- 20 -->\n      <g transform=\"translate(7.2 57.941295)scale(0.1 -0.1)\">\n       <use xlink:href=\"#DejaVuSans-50\"/>\n       <use x=\"63.623047\" xlink:href=\"#DejaVuSans-48\"/>\n      </g>\n     </g>\n    </g>\n    <g id=\"ytick_6\">\n     <g id=\"line2d_12\">\n      <g>\n       <use style=\"stroke:#000000;stroke-width:0.8;\" x=\"26.925\" xlink:href=\"#mb0a1564daf\" y=\"10.999219\"/>\n      </g>\n     </g>\n     <g id=\"text_12\">\n      <!-- 25 -->\n      <g transform=\"translate(7.2 14.798437)scale(0.1 -0.1)\">\n       <use xlink:href=\"#DejaVuSans-50\"/>\n       <use x=\"63.623047\" xlink:href=\"#DejaVuSans-53\"/>\n      </g>\n     </g>\n    </g>\n   </g>\n   <g id=\"patch_11\">\n    <path d=\"M 26.925 226.713504 \nL 26.925 9.273504 \n\" style=\"fill:none;stroke:#000000;stroke-linecap:square;stroke-linejoin:miter;stroke-width:0.8;\"/>\n   </g>\n   <g id=\"patch_12\">\n    <path d=\"M 361.725 226.713504 \nL 361.725 9.273504 \n\" style=\"fill:none;stroke:#000000;stroke-linecap:square;stroke-linejoin:miter;stroke-width:0.8;\"/>\n   </g>\n   <g id=\"patch_13\">\n    <path d=\"M 26.925 226.713504 \nL 361.725 226.713504 \n\" style=\"fill:none;stroke:#000000;stroke-linecap:square;stroke-linejoin:miter;stroke-width:0.8;\"/>\n   </g>\n   <g id=\"patch_14\">\n    <path d=\"M 26.925 9.273504 \nL 361.725 9.273504 \n\" style=\"fill:none;stroke:#000000;stroke-linecap:square;stroke-linejoin:miter;stroke-width:0.8;\"/>\n   </g>\n  </g>\n </g>\n <defs>\n  <clipPath id=\"p293a1da590\">\n   <rect height=\"217.44\" width=\"334.8\" x=\"26.925\" y=\"9.273504\"/>\n  </clipPath>\n </defs>\n</svg>\n",
      "image/png": "[encoded data removed]"
     },
     "metadata": {
      "needs_background": "light"
     }
    }
   ],
   "source": [
    "import numpy as np\n",
    "import matplotlib.pyplot as plt\n",
    "\n",
    "games       = ['W3', 'Worms', 'Valheim', 'Trials', 'Quake', 'Farming']\n",
    "KEKvsFUTULU = [0.7 , 0.5    , 0.5      , 0.7     , 0      , 0.3      ]\n",
    "\n",
    "def will_win(i, j, k, inverse=False):\n",
    "    p0 = KEKvsFUTULU[i]*KEKvsFUTULU[j]\n",
    "    p1 = (1-KEKvsFUTULU[i])*KEKvsFUTULU[j]*KEKvsFUTULU[k]\n",
    "    p2 = KEKvsFUTULU[i]*(1-KEKvsFUTULU[j])*KEKvsFUTULU[k]\n",
    "\n",
    "    if not inverse:\n",
    "        return p0+p1+p2\n",
    "    else:\n",
    "        return 3-p0-p1-p2\n",
    "\n",
    "def gen_comb(nb_id):\n",
    "    comb = []\n",
    "    for i in range(nb_id):\n",
    "        for j in range(nb_id):\n",
    "            if j==i:\n",
    "                continue \n",
    "            for k in range(nb_id):\n",
    "                if k==i or k==j:\n",
    "                    continue \n",
    "                comb.append([i, j, k])\n",
    "    return comb\n",
    "\n",
    "comb_arr = gen_comb(len(KEKvsFUTULU))\n",
    "\n",
    "result = []\n",
    "for comb in comb_arr:\n",
    "    result.append(will_win(*comb))\n",
    "\n",
    "result.sort()\n",
    "hist_result = np.histogram(result, bins=10)\n",
    "\n",
    "plt.hist(result, bins='auto')\n",
    "\n",
    "more_than_half = [x for x in result if x > 0.5]\n",
    "print(\"KEKwin=\", sum(more_than_half)/len(more_than_half)*100, \"%\")\n",
    "less_than_half = [x for x in result if x <= 0.5]\n",
    "print(\"KEKlose=\", sum(less_than_half)/len(less_than_half)*100, \"%\")\n",
    "\n",
    "print(\"After games choice :\", will_win(4,5,2)*100, \"%\")"
   ]
  },
  {
   "cell_type": "code",
   "execution_count": null,
   "metadata": {},
   "outputs": [],
   "source": []
  }
 ]
}